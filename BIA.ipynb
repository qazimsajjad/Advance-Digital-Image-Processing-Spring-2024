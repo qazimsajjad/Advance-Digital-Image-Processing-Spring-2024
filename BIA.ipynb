{
 "cells": [
  {
   "cell_type": "code",
   "execution_count": 1,
   "id": "aefb0776",
   "metadata": {},
   "outputs": [],
   "source": [
    "import numpy as np\n",
    "import cv2\n",
    "\n"
   ]
  },
  {
   "cell_type": "code",
   "execution_count": 2,
   "id": "eded3ed5",
   "metadata": {},
   "outputs": [],
   "source": [
    "img=np.array([[0, 0, 0, 0], [0, 1, 1, 0], [0, 0, 0, 0]])\n",
    "msk=np.array([[1, 0], [1, 1]])\n",
    "outimg=np.zeros((img.shape[0], img.shape[1]), dtype='uint8')\n",
    "\n",
    "#and img[i-1, j]==msk[0, 0] and img[i, j+1]==1\n",
    "\n",
    "for i in range(1, img.shape[0]):\n",
    "    \n",
    "    for j in range(img.shape[1]-1):\n",
    "        \n",
    "        if (img[i,j]==msk[1, 0]):\n",
    "            outimg[i-1, j]=1\n",
    "            outimg[i, j+1]=1\n",
    "            outimg[i,j]=1\n",
    "        \n",
    "        "
   ]
  },
  {
   "cell_type": "code",
   "execution_count": 5,
   "id": "74799c10",
   "metadata": {},
   "outputs": [
    {
     "data": {
      "text/plain": [
       "array([[0, 1, 1, 0],\n",
       "       [0, 1, 1, 1],\n",
       "       [0, 0, 0, 0]], dtype=uint8)"
      ]
     },
     "execution_count": 5,
     "metadata": {},
     "output_type": "execute_result"
    }
   ],
   "source": [
    "outimg"
   ]
  },
  {
   "cell_type": "code",
   "execution_count": 92,
   "id": "8089cce2",
   "metadata": {},
   "outputs": [
    {
     "data": {
      "text/plain": [
       "3.0"
      ]
     },
     "execution_count": 92,
     "metadata": {},
     "output_type": "execute_result"
    }
   ],
   "source": [
    "img=cv2.imread('CrossBar.png', cv2.IMREAD_GRAYSCALE)\n",
    "incount=0\n",
    "excount=0\n",
    "img[img==255]=1\n",
    "\n",
    "\n",
    "\n",
    "inmsks=np.array([[1, 1, 1, 0],[1, 1, 0, 1],[1, 0, 1, 1],[0, 1, 1, 1]])\n",
    "exmsks=np.array([[0, 0, 0, 1],[0, 0, 1, 0],[0, 1, 0, 0],[1, 0, 0, 0]])\n",
    "\n",
    "for i in range(img.shape[0]-1):\n",
    "    for j in range(img.shape[1]-1):\n",
    "        if any([np.array_equal(img[i:i+2, j:j+2].ravel(), msk) for msk in inmsks]):\n",
    "            incount+=1\n",
    "        elif any([np.array_equal(img[i:i+2, j:j+2].ravel(), msk) for msk in exmsks]):\n",
    "            excount+=1\n",
    "            \n",
    "(excount-incount)/4\n",
    "\n",
    "# Display the image (optional)\n",
    "#cv2.imshow('Binary Image', img)\n",
    "#cv2.waitKey(0)\n",
    "#cv2.destroyAllWindows()"
   ]
  },
  {
   "cell_type": "code",
   "execution_count": 91,
   "id": "25d3c3f3",
   "metadata": {},
   "outputs": [
    {
     "data": {
      "text/plain": [
       "9"
      ]
     },
     "execution_count": 91,
     "metadata": {},
     "output_type": "execute_result"
    }
   ],
   "source": [
    "incount"
   ]
  },
  {
   "cell_type": "code",
   "execution_count": 74,
   "id": "41eaa36d",
   "metadata": {},
   "outputs": [],
   "source": [
    "result=[False, True, False, False]"
   ]
  },
  {
   "cell_type": "code",
   "execution_count": 75,
   "id": "fa73ac70",
   "metadata": {},
   "outputs": [
    {
     "data": {
      "text/plain": [
       "True"
      ]
     },
     "execution_count": 75,
     "metadata": {},
     "output_type": "execute_result"
    }
   ],
   "source": [
    "any(result)"
   ]
  },
  {
   "cell_type": "code",
   "execution_count": null,
   "id": "10b9b261",
   "metadata": {},
   "outputs": [],
   "source": []
  }
 ],
 "metadata": {
  "kernelspec": {
   "display_name": "Python 3 (ipykernel)",
   "language": "python",
   "name": "python3"
  },
  "language_info": {
   "codemirror_mode": {
    "name": "ipython",
    "version": 3
   },
   "file_extension": ".py",
   "mimetype": "text/x-python",
   "name": "python",
   "nbconvert_exporter": "python",
   "pygments_lexer": "ipython3",
   "version": "3.9.18"
  },
  "widgets": {
   "application/vnd.jupyter.widget-state+json": {
    "state": {},
    "version_major": 2,
    "version_minor": 0
   }
  }
 },
 "nbformat": 4,
 "nbformat_minor": 5
}
